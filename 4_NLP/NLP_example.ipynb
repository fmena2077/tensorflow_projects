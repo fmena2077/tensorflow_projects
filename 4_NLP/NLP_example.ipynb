{
  "nbformat": 4,
  "nbformat_minor": 0,
  "metadata": {
    "kernelspec": {
      "display_name": "Python 3",
      "language": "python",
      "name": "python3"
    },
    "language_info": {
      "codemirror_mode": {
        "name": "ipython",
        "version": 2
      },
      "file_extension": ".py",
      "mimetype": "text/x-python",
      "name": "python",
      "nbconvert_exporter": "python",
      "pygments_lexer": "ipython2",
      "version": "2.7.6"
    },
    "colab": {
      "name": "NLP_example.ipynb",
      "provenance": [],
      "collapsed_sections": []
    },
    "accelerator": "GPU"
  },
  "cells": [
    {
      "cell_type": "code",
      "metadata": {
        "collapsed": true,
        "colab": {
          "base_uri": "https://localhost:8080/",
          "height": 52
        },
        "id": "YNn0Kc6rB07D",
        "outputId": "fafad254-78c6-474e-d091-56ba77e02c74"
      },
      "source": [
        "\"\"\"\n",
        "Created on Sun Oct  3 19:26:11 2021\n",
        "\n",
        "@author: franc\n",
        "\n",
        "\n",
        "Un ejemplo simple de NLP\n",
        "\n",
        "En este script veremos un ejemplo simple de cómo analizar texto usando NLP\n",
        "1er paso: usa un tokenizer en el texto\n",
        "\"\"\""
      ],
      "execution_count": 1,
      "outputs": [
        {
          "output_type": "execute_result",
          "data": {
            "application/vnd.google.colaboratory.intrinsic+json": {
              "type": "string"
            },
            "text/plain": [
              "'\\nCreated on Sun Oct  3 19:26:11 2021\\n\\n@author: franc\\n\\n\\nUn ejemplo simple de NLP\\n\\nEn este script veremos un ejemplo simple de cómo analizar texto usando NLP\\n1er paso: usa un tokenizer en el texto\\n'"
            ]
          },
          "metadata": {},
          "execution_count": 1
        }
      ]
    },
    {
      "cell_type": "code",
      "metadata": {
        "pycharm": {
          "name": "#%%\n"
        },
        "id": "kxqgXW6TB07G"
      },
      "source": [
        "import tensorflow as tf\n",
        "import numpy as np\n",
        "import os\n",
        "from tensorflow import keras"
      ],
      "execution_count": 2,
      "outputs": []
    },
    {
      "cell_type": "code",
      "metadata": {
        "pycharm": {
          "name": "#%% Obtener la data\n"
        },
        "colab": {
          "base_uri": "https://localhost:8080/"
        },
        "id": "-VKiYtV3B07H",
        "outputId": "d435acd2-04c5-4c32-f7a1-5d7893544739"
      },
      "source": [
        "shakespeare_url = \"https://raw.githubusercontent.com/karpathy/char-rnn/master/data/tinyshakespeare/input.txt\"\n",
        "filepath = keras.utils.get_file(\"shakespeare.txt\", shakespeare_url)\n",
        "with open(filepath) as f:\n",
        "    shakespeare_text = f.read()"
      ],
      "execution_count": 3,
      "outputs": [
        {
          "output_type": "stream",
          "name": "stdout",
          "text": [
            "Downloading data from https://raw.githubusercontent.com/karpathy/char-rnn/master/data/tinyshakespeare/input.txt\n",
            "1122304/1115394 [==============================] - 0s 0us/step\n",
            "1130496/1115394 [==============================] - 0s 0us/step\n"
          ]
        }
      ]
    },
    {
      "cell_type": "code",
      "metadata": {
        "pycharm": {
          "name": "#%% 1er paso: tokenize el texto\n"
        },
        "id": "0wnutrXVB07H"
      },
      "source": [
        "tokenizer = keras.preprocessing.text.Tokenizer(char_level=True)     #a nivel de char porque iremos prediciendo char por char\n",
        "tokenizer.fit_on_texts(shakespeare_text)\n",
        "\n",
        "#Y lo aplicamos al texto\n",
        "\n",
        "[encoded] = np.array(tokenizer.texts_to_sequences([shakespeare_text])) - 1     #para que empieze desde 0 en vez de 1\n"
      ],
      "execution_count": 4,
      "outputs": []
    },
    {
      "cell_type": "code",
      "metadata": {
        "pycharm": {
          "name": "#%% Ahora lo separamos en train and test\n"
        },
        "colab": {
          "base_uri": "https://localhost:8080/"
        },
        "id": "hNoj6zSEB07I",
        "outputId": "d6f860d3-57a2-492e-e980-e7ecbfd53814"
      },
      "source": [
        "datasize = tokenizer.document_count\n",
        "print(datasize)\n",
        "\n",
        "train_size = datasize * 90 // 100 #90% train size\n",
        "\n",
        "#y creamos el dataset en formato Dataset\n",
        "\n",
        "dataset = tf.data.Dataset.from_tensor_slices(encoded[:train_size])"
      ],
      "execution_count": 5,
      "outputs": [
        {
          "output_type": "stream",
          "name": "stdout",
          "text": [
            "1115394\n"
          ]
        }
      ]
    },
    {
      "cell_type": "code",
      "metadata": {
        "pycharm": {
          "name": "#%%\n"
        },
        "id": "jR3OJG7-B07I"
      },
      "source": [
        "#Ahora creamos sub-segmentos de la secuencia completa del train set\n",
        "\n",
        "n_steps = 100 #secuencias de largo n_steps\n",
        "window_length = n_steps + 1 #el target será el  nsteps+1avo elemento siguiente\n",
        "\n",
        "dataset = dataset.window(window_length, shift=1, drop_remainder = True )"
      ],
      "execution_count": 6,
      "outputs": []
    },
    {
      "cell_type": "code",
      "metadata": {
        "pycharm": {
          "name": "#%%\n"
        },
        "colab": {
          "base_uri": "https://localhost:8080/"
        },
        "id": "SGaAQDeyB07I",
        "outputId": "3de71a7d-d443-417c-f8e1-1613d39b4e9e"
      },
      "source": [
        "#Ahora necesitamos convertir el dataset, que es objeto \"WindowsDataset\", en un normal dataset.\n",
        "# Esto lo hacemos con flat_map, pasa de nested windows to windows, y batch crea cada samples de largo window_length\n",
        "\n",
        "dataset = dataset.flat_map(lambda window: window.batch(window_length))\n",
        "\n",
        "\n",
        "#Y ahora preparamos la data para entrenamiento\n",
        "\n",
        "BATCH = 32\n",
        "dataset = dataset.shuffle(10000).batch(BATCH)\n",
        "dataset = dataset.map(lambda window: (window[:, :-1], window[:, 1:]))\n",
        "#el sample son todos los n_steps chars, y el test es lo mismo shifted por un char hacia adelante\n",
        "\n",
        "#Ahora tenemos que hacer encoding. Por simplicidad, one-hot encoding\n",
        "max_id = len(tokenizer.word_index) # número de characteres distintos\n",
        "print(max_id)\n",
        "dataset = dataset.map(lambda X_batch, Y_batch: (tf.one_hot(X_batch, depth=max_id), Y_batch))\n",
        "dataset = dataset.prefetch(1) #prefetch para eficiencia"
      ],
      "execution_count": 7,
      "outputs": [
        {
          "output_type": "stream",
          "name": "stdout",
          "text": [
            "39\n"
          ]
        }
      ]
    },
    {
      "cell_type": "code",
      "metadata": {
        "pycharm": {
          "name": "#%%\n"
        },
        "colab": {
          "base_uri": "https://localhost:8080/"
        },
        "id": "UmiFKt7eB07J",
        "outputId": "bdf600f1-d017-44d8-b992-9dfd6f3fb9d4"
      },
      "source": [
        "#veamos un ejemplo de la data\n",
        "\n",
        "for xsample, ysample in dataset.take(1):\n",
        "    print(xsample.shape)    #(batch_size, window_size, # features/onehotencoded)\n",
        "    print('\\n')\n",
        "    print(ysample.shape)\n",
        "    "
      ],
      "execution_count": 8,
      "outputs": [
        {
          "output_type": "stream",
          "name": "stdout",
          "text": [
            "(32, 100, 39)\n",
            "\n",
            "\n",
            "(32, 100)\n"
          ]
        }
      ]
    },
    {
      "cell_type": "code",
      "metadata": {
        "pycharm": {
          "name": "#%% Ahora a entrenar! \n"
        },
        "colab": {
          "base_uri": "https://localhost:8080/"
        },
        "id": "dBOQ-bQpB07K",
        "outputId": "61a3714e-6fd2-4227-c770-ee83586dfded"
      },
      "source": [
        "model = keras.models.Sequential([\n",
        "    keras.layers.GRU(128, return_sequences=True, input_shape = [None, max_id],\n",
        "                     dropout = 0.2),\n",
        "    keras.layers.GRU(128, return_sequences=True, input_shape = [None, max_id],\n",
        "                     dropout = 0.2),\n",
        "    keras.layers.Dense(max_id, activation = 'softmax')\n",
        "        ])\n",
        "\n",
        "model.compile(loss = 'sparse_categorical_crossentropy', optimizer = 'adam')\n",
        "\n",
        "model.summary()"
      ],
      "execution_count": 9,
      "outputs": [
        {
          "output_type": "stream",
          "name": "stdout",
          "text": [
            "Model: \"sequential\"\n",
            "_________________________________________________________________\n",
            "Layer (type)                 Output Shape              Param #   \n",
            "=================================================================\n",
            "gru (GRU)                    (None, None, 128)         64896     \n",
            "_________________________________________________________________\n",
            "gru_1 (GRU)                  (None, None, 128)         99072     \n",
            "_________________________________________________________________\n",
            "dense (Dense)                (None, None, 39)          5031      \n",
            "=================================================================\n",
            "Total params: 168,999\n",
            "Trainable params: 168,999\n",
            "Non-trainable params: 0\n",
            "_________________________________________________________________\n"
          ]
        }
      ]
    },
    {
      "cell_type": "code",
      "metadata": {
        "pycharm": {
          "name": "#%%\n"
        },
        "colab": {
          "base_uri": "https://localhost:8080/"
        },
        "id": "AEtOxVjmB07K",
        "outputId": "a2f342f4-0d28-4fee-d4b3-f2c7d0df168b"
      },
      "source": [
        "#Probemos con 3 epocas para no alargar el tiempo de training\n",
        "history = model.fit(dataset, epochs = 3)"
      ],
      "execution_count": 10,
      "outputs": [
        {
          "output_type": "stream",
          "name": "stdout",
          "text": [
            "Epoch 1/3\n",
            "31368/31368 [==============================] - 1589s 50ms/step - loss: 1.6180\n",
            "Epoch 2/3\n",
            "31368/31368 [==============================] - 1573s 50ms/step - loss: 1.5377\n",
            "Epoch 3/3\n",
            "31368/31368 [==============================] - 1588s 51ms/step - loss: 1.5168\n"
          ]
        }
      ]
    },
    {
      "cell_type": "code",
      "metadata": {
        "pycharm": {
          "name": "#%% Performance\n"
        },
        "colab": {
          "base_uri": "https://localhost:8080/",
          "height": 282
        },
        "id": "ceEscHgoB07L",
        "outputId": "bb96ade4-5ee1-4af3-f6bd-b1d176fecd6e"
      },
      "source": [
        "import pandas as pd\n",
        "pd.DataFrame(history.history).plot()\n"
      ],
      "execution_count": 11,
      "outputs": [
        {
          "output_type": "execute_result",
          "data": {
            "text/plain": [
              "<matplotlib.axes._subplots.AxesSubplot at 0x7fdc98301b50>"
            ]
          },
          "metadata": {},
          "execution_count": 11
        },
        {
          "output_type": "display_data",
          "data": {
            "image/png": "[encoded data removed]",
            "text/plain": [
              "<Figure size 432x288 with 1 Axes>"
            ]
          },
          "metadata": {
            "needs_background": "light"
          }
        }
      ]
    },
    {
      "cell_type": "code",
      "metadata": {
        "pycharm": {
          "name": "#%% To preprocess data\n"
        },
        "colab": {
          "base_uri": "https://localhost:8080/",
          "height": 35
        },
        "id": "-xfhfWlSB07L",
        "outputId": "66acfbe1-c3b5-4ae1-b2e5-6f7d1b4c5aab"
      },
      "source": [
        "def preprocess(texts):\n",
        "    X = np.array(tokenizer.texts_to_sequences(texts)) - 1\n",
        "    return tf.one_hot(X, max_id)\n",
        "\n",
        "#Let's see an example\n",
        "X_new = preprocess([\"How are yo\"])\n",
        "#Y_pred = model.predict_classes(X_new)\n",
        "Y_pred = np.argmax(model(X_new), axis=-1)\n",
        "tokenizer.sequences_to_texts(Y_pred + 1)[0][-1] # 1st sentence, last char\n"
      ],
      "execution_count": 12,
      "outputs": [
        {
          "output_type": "execute_result",
          "data": {
            "application/vnd.google.colaboratory.intrinsic+json": {
              "type": "string"
            },
            "text/plain": [
              "'u'"
            ]
          },
          "metadata": {},
          "execution_count": 12
        }
      ]
    },
    {
      "cell_type": "markdown",
      "metadata": {
        "id": "eXKYnzduXal4"
      },
      "source": [
        "It works! :)"
      ]
    },
    {
      "cell_type": "code",
      "metadata": {
        "id": "au30V5zaXbiJ"
      },
      "source": [
        ""
      ],
      "execution_count": null,
      "outputs": []
    }
  ]
}